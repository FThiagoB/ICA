{
 "cells": [
  {
   "cell_type": "code",
   "execution_count": null,
   "id": "cd0a90e6",
   "metadata": {},
   "outputs": [],
   "source": [
    "from dataset import Dataset\n",
    "from classificadores import PerceptronSimples, MultiLayerPerceptron, ExtremeLearningMachine\n",
    "\n",
    "import matplotlib.pyplot as plt\n",
    "import pandas as pd\n",
    "import numpy as np"
   ]
  },
  {
   "cell_type": "code",
   "execution_count": null,
   "id": "bc9b4883",
   "metadata": {},
   "outputs": [],
   "source": [
    "# Conjunto de dados Câncer de Mama =================================================\n",
    "colunas = [\"ID\", \"Diagnosis\", \"radius1\", \"texture1\", \"perimeter1\", \"area1\", \"smoothness1\", \"compactness1\", \"concavity1\", \"concave_points1\", \"symmetry1\", \"fractal_dimension1\", \"radius2\", \"texture2\", \"perimeter2\", \"area2\", \"smoothness2\", \"compactness2\", \"concavity2\", \"concave_points2\", \"symmetry2\", \"fractal_dimension2\", \"radius3\", \"texture3\", \"perimeter3\", \"area3\", \"smoothness3\", \"compactness3\", \"concavity3\", \"concave_points3\", \"symmetry3\", \"fractal_dimension3\"]\n",
    "\n",
    "dataset = Dataset.from_file( \n",
    "    filepath = r\"datasets\\wdbc.data\", \n",
    "    label_column = 1,\n",
    "    delimiter = \",\",  \n",
    "    column_names = colunas\n",
    ").ensure_numeric_labels().remove_features([\"ID\"]).normalize()\n",
    "\n",
    "dataset.vectorize_labels()\n",
    "\n",
    "print(dataset)"
   ]
  },
  {
   "cell_type": "code",
   "execution_count": null,
   "id": "b7ef17ff",
   "metadata": {},
   "outputs": [],
   "source": [
    "# Conjunto de dados Coluna Vertebral =================================================\n",
    "colunas = [\"pelvic incidence\", \"pelvic tilt\", \"lumbar lordosis angle\", \"sacral slope\", \"pelvic radius\", \"degree spondylolisthesis\", \"class\"]\n",
    "\n",
    "dataset = Dataset.from_file( \n",
    "    filepath = r\"datasets\\column_3C.dat\", \n",
    "    label_column = -1,\n",
    "    delimiter = \" \",  \n",
    "    column_names = colunas\n",
    ").ensure_numeric_labels().normalize()\n",
    "\n",
    "dataset.vectorize_labels()\n",
    "\n",
    "print(dataset)"
   ]
  },
  {
   "cell_type": "code",
   "execution_count": 6,
   "id": "add3b5f2",
   "metadata": {},
   "outputs": [],
   "source": [
    "# Realiza o suffle do conjunto de dados e divide o dataset\n",
    "shuffled_dataset = dataset.shuffle()\n",
    "train_dataset, test_dataset = shuffled_dataset.split()"
   ]
  },
  {
   "cell_type": "code",
   "execution_count": null,
   "id": "7ec2b85c",
   "metadata": {},
   "outputs": [],
   "source": [
    "MLP = MultiLayerPerceptron( train_dataset, q = 3 )"
   ]
  }
 ],
 "metadata": {
  "kernelspec": {
   "display_name": "Python 3",
   "language": "python",
   "name": "python3"
  },
  "language_info": {
   "codemirror_mode": {
    "name": "ipython",
    "version": 3
   },
   "file_extension": ".py",
   "mimetype": "text/x-python",
   "name": "python",
   "nbconvert_exporter": "python",
   "pygments_lexer": "ipython3",
   "version": "3.13.0"
  }
 },
 "nbformat": 4,
 "nbformat_minor": 5
}
