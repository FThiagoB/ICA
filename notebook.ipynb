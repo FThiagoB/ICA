{
 "cells": [
  {
   "cell_type": "code",
   "execution_count": null,
   "id": "cd0a90e6",
   "metadata": {},
   "outputs": [],
   "source": [
    "from dataset import Dataset\n",
    "from classificadores import PerceptronSimples, MultiLayerPerceptron, ExtremeLearningMachine\n",
    "\n",
    "import matplotlib.pyplot as plt\n",
    "import pandas as pd\n",
    "import numpy as np"
   ]
  },
  {
   "cell_type": "code",
   "execution_count": null,
   "id": "b7ef17ff",
   "metadata": {},
   "outputs": [],
   "source": [
    "# Conjunto de dados Coluna Vertebral =================================================\n",
    "colunas = [\"pelvic incidence\", \"pelvic tilt\", \"lumbar lordosis angle\", \"sacral slope\", \"pelvic radius\", \"degree spondylolisthesis\", \"class\"]\n",
    "\n",
    "dataset = Dataset.from_file( \n",
    "    filepath = r\"datasets\\column_3C.dat\", \n",
    "    label_column = -1,\n",
    "    delimiter = \" \",  \n",
    "    column_names = colunas\n",
    ").ensure_numeric_labels().normalize()\n",
    "\n",
    "dataset.vectorize_labels()\n",
    "\n",
    "print(dataset)"
   ]
  },
  {
   "cell_type": "code",
   "execution_count": null,
   "id": "bc9b4883",
   "metadata": {},
   "outputs": [],
   "source": [
    "# Conjunto de dados Câncer de Mama =================================================\n",
    "colunas = [\"ID\", \"Diagnosis\", \"radius1\", \"texture1\", \"perimeter1\", \"area1\", \"smoothness1\", \"compactness1\", \"concavity1\", \"concave_points1\", \"symmetry1\", \"fractal_dimension1\", \"radius2\", \"texture2\", \"perimeter2\", \"area2\", \"smoothness2\", \"compactness2\", \"concavity2\", \"concave_points2\", \"symmetry2\", \"fractal_dimension2\", \"radius3\", \"texture3\", \"perimeter3\", \"area3\", \"smoothness3\", \"compactness3\", \"concavity3\", \"concave_points3\", \"symmetry3\", \"fractal_dimension3\"]\n",
    "\n",
    "dataset = Dataset.from_file( \n",
    "    filepath = r\"datasets\\wdbc.data\", \n",
    "    label_column = 1,\n",
    "    delimiter = \",\",  \n",
    "    column_names = colunas\n",
    ").ensure_numeric_labels().remove_features([\"ID\"]).normalize()\n",
    "\n",
    "dataset.vectorize_labels()\n",
    "\n",
    "print(dataset)"
   ]
  },
  {
   "cell_type": "code",
   "execution_count": 35,
   "id": "34ef9410",
   "metadata": {},
   "outputs": [
    {
     "name": "stdout",
     "output_type": "stream",
     "text": [
      "Treinamento encerrado após 500 épocas. Custo = 0.06345507218571547.\n",
      "\n",
      "Treinando o ELM\n",
      "Treinamento encerrado. Custo = 0.10370885737232761\n",
      "\n",
      "==== ==== ==== ==== ==== ==== ==== ==== ==== ==== ==== 50/50\n",
      "Treinando o PS:\n",
      "Treinamento encerrado após 300 épocas. Custo = 0.5974844085053997.\n",
      "\n",
      "Treinando o MLP:\n",
      "Treinamento encerrado após 500 épocas. Custo = 0.054762315769731285.\n",
      "\n",
      "Treinando o ELM\n",
      "Treinamento encerrado. Custo = 0.11179332122704165\n"
     ]
    }
   ],
   "source": [
    "acuracia_teste = {\n",
    "    \"PS\": [], \"MLP\": [], \"ELM\": []\n",
    "}\n",
    "\n",
    "acuracia_treinamento = {\n",
    "    \"PS\": [], \"MLP\": [], \"ELM\": []\n",
    "}\n",
    "\n",
    "# Percorre as rodada independentes\n",
    "nRodadas = 50\n",
    "\n",
    "for rodada in range( nRodadas ):\n",
    "    print(f\"\\n==== ==== ==== ==== ==== ==== ==== ==== ==== ==== ==== {rodada+1}/{nRodadas}\")\n",
    "\n",
    "    # Para cada rodada independente, realiza o shuffle e separa o conjunto de dados\n",
    "    shuffled_dataset = dataset.shuffle()\n",
    "    train_dataset, test_dataset = shuffled_dataset.split()\n",
    "\n",
    "    # Cria instâncias para os classificadores\n",
    "    PS = PerceptronSimples( train_dataset )\n",
    "    MLP = MultiLayerPerceptron( train_dataset, q = 10 )\n",
    "    ELM = ExtremeLearningMachine( train_dataset, q = 100 )\n",
    "\n",
    "    # Treina cada uma das redes\n",
    "    print(\"Treinando o PS:\")\n",
    "    PS.train( max_epocas = 300, eta = 0.0001 )\n",
    "\n",
    "    print(\"\\nTreinando o MLP:\")\n",
    "    MLP.train( max_epocas = 500, eta = 0.001 )\n",
    "\n",
    "    print(\"\\nTreinando o ELM\")\n",
    "    ELM.train()\n",
    "\n",
    "    # Reseta os erros da rodada\n",
    "    erros_treinamento = {\n",
    "        \"PS\": 0, \"MLP\": 0, \"ELM\": 0\n",
    "    }\n",
    "\n",
    "    erros_teste = {\n",
    "        \"PS\": 0, \"MLP\": 0, \"ELM\": 0\n",
    "    }    \n",
    "\n",
    "    #  Percorre o conjunto de treinamento e computa os erros\n",
    "    for index, *features, classe_correta in train_dataset:\n",
    "        classe_predita = PS.predict( features )\n",
    "        if classe_predita != classe_correta:\n",
    "            erros_treinamento[\"PS\"] += 1\n",
    "\n",
    "        classe_predita = MLP.predict( features )\n",
    "        if classe_predita != classe_correta:\n",
    "            erros_treinamento[\"MLP\"] += 1\n",
    "\n",
    "        classe_predita = ELM.predict( features )\n",
    "        if classe_predita != classe_correta:\n",
    "            erros_treinamento[\"ELM\"] += 1\n",
    "\n",
    "    # Percorre o conjunto de teste e computa os erros\n",
    "    for index, *features, classe_correta in test_dataset:\n",
    "        classe_predita = PS.predict( features )\n",
    "        if classe_predita != classe_correta:\n",
    "            erros_teste[\"PS\"] += 1\n",
    "\n",
    "        classe_predita = MLP.predict( features )\n",
    "        if classe_predita != classe_correta:\n",
    "            erros_teste[\"MLP\"] += 1\n",
    "\n",
    "        classe_predita = ELM.predict( features )\n",
    "        if classe_predita != classe_correta:\n",
    "            erros_teste[\"ELM\"] += 1\n",
    "    \n",
    "    # Armazena a acurácia da rodada\n",
    "    for classificador in [\"PS\", \"MLP\", \"ELM\"]:\n",
    "        acuracia_treinamento[classificador].append(\n",
    "            1 - erros_treinamento[classificador] / len(train_dataset)\n",
    "        )\n",
    "\n",
    "        acuracia_teste[classificador].append(\n",
    "            1 - erros_teste[classificador] / len(test_dataset)\n",
    "        )"
   ]
  },
  {
   "cell_type": "code",
   "execution_count": 52,
   "id": "c6e75740",
   "metadata": {},
   "outputs": [
    {
     "name": "stdout",
     "output_type": "stream",
     "text": [
      "Treinamento: \n",
      "PS: 96.01%±0.86%\n",
      "MLP: 98.25%±0.34%\n",
      "ELM: 98.36%±0.36%\n",
      "\n",
      "Teste:\n",
      "PS: 94.23%±1.96%\n",
      "MLP: 96.96%±1.58%\n",
      "ELM: 95.70%±1.62%\n"
     ]
    }
   ],
   "source": [
    "print(\"Treinamento: \")\n",
    "for classificador in [\"PS\", \"MLP\", \"ELM\"]:\n",
    "    média = np.mean( acuracia_treinamento[classificador] )\n",
    "    desvio = np.std( acuracia_treinamento[classificador], ddof=0 )\n",
    "\n",
    "    print(f\"{classificador}: {média*100:.2f}%±{desvio*100:.2f}%\")\n",
    "\n",
    "print(\"\\nTeste:\")\n",
    "for classificador in [\"PS\", \"MLP\", \"ELM\"]:\n",
    "    média = np.mean( acuracia_teste[classificador] )\n",
    "    desvio = np.std( acuracia_teste[classificador], ddof=0 )\n",
    "\n",
    "    print(f\"{classificador}: {média*100:.2f}%±{desvio*100:.2f}%\")\n"
   ]
  },
  {
   "cell_type": "code",
   "execution_count": 38,
   "id": "ab87adcf",
   "metadata": {},
   "outputs": [
    {
     "name": "stderr",
     "output_type": "stream",
     "text": [
      "C:\\Users\\fthia\\AppData\\Local\\Temp\\ipykernel_536\\2293490635.py:11: MatplotlibDeprecationWarning: The 'labels' parameter of boxplot() has been renamed 'tick_labels' since Matplotlib 3.9; support for the old name will be dropped in 3.11.\n",
      "  plt.boxplot(dados_treino, labels=[\"PS\", \"MLP\", \"ELM\"], showmeans=True)\n"
     ]
    },
    {
     "data": {
      "image/png": "[encoded data removed]",
      "text/plain": [
       "<Figure size 1000x500 with 1 Axes>"
      ]
     },
     "metadata": {},
     "output_type": "display_data"
    }
   ],
   "source": [
    "# Exemplo para um boxplot de acurácia em treino\n",
    "plt.figure(figsize=(10, 5))\n",
    "\n",
    "# Cada entrada é uma lista com 50 valores de acurácia\n",
    "dados_treino = [\n",
    "    acuracia_treinamento[\"PS\"],\n",
    "    acuracia_treinamento[\"MLP\"],\n",
    "    acuracia_treinamento[\"ELM\"]\n",
    "]\n",
    "\n",
    "plt.boxplot(dados_treino, labels=[\"PS\", \"MLP\", \"ELM\"], showmeans=True)\n",
    "plt.ylabel(\"Acurácia\")\n",
    "plt.title(\"Treinamento em 50 Rodadas Independentes\")\n",
    "plt.grid(axis='y')\n",
    "plt.show()"
   ]
  },
  {
   "cell_type": "code",
   "execution_count": 53,
   "id": "4af4db89",
   "metadata": {},
   "outputs": [
    {
     "name": "stderr",
     "output_type": "stream",
     "text": [
      "C:\\Users\\fthia\\AppData\\Local\\Temp\\ipykernel_536\\2690114287.py:11: MatplotlibDeprecationWarning: The 'labels' parameter of boxplot() has been renamed 'tick_labels' since Matplotlib 3.9; support for the old name will be dropped in 3.11.\n",
      "  plt.boxplot(dados_teste, labels=[\"PS\", \"MLP\", \"ELM\"], showmeans=True)\n"
     ]
    },
    {
     "data": {
      "image/png": "[encoded data removed]",
      "text/plain": [
       "<Figure size 1000x500 with 1 Axes>"
      ]
     },
     "metadata": {},
     "output_type": "display_data"
    }
   ],
   "source": [
    "# Exemplo para um boxplot de acurácia em treino\n",
    "plt.figure(figsize=(10, 5))\n",
    "\n",
    "# Cada entrada é uma lista com 50 valores de acurácia\n",
    "dados_teste = [\n",
    "    acuracia_teste[\"PS\"],\n",
    "    acuracia_teste[\"MLP\"],\n",
    "    acuracia_teste[\"ELM\"]\n",
    "]\n",
    "\n",
    "plt.boxplot(dados_teste, labels=[\"PS\", \"MLP\", \"ELM\"], showmeans=True)\n",
    "plt.ylabel(\"Acurácia\")\n",
    "plt.title(\"Teste em 50 Rodadas Independentes\")\n",
    "plt.grid(axis='y')\n",
    "plt.show()"
   ]
  }
 ],
 "metadata": {
  "kernelspec": {
   "display_name": "Python 3",
   "language": "python",
   "name": "python3"
  },
  "language_info": {
   "codemirror_mode": {
    "name": "ipython",
    "version": 3
   },
   "file_extension": ".py",
   "mimetype": "text/x-python",
   "name": "python",
   "nbconvert_exporter": "python",
   "pygments_lexer": "ipython3",
   "version": "3.13.0"
  }
 },
 "nbformat": 4,
 "nbformat_minor": 5
}
