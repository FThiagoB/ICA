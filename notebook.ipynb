{
 "cells": [
  {
   "cell_type": "code",
   "execution_count": null,
   "id": "cd0a90e6",
   "metadata": {},
   "outputs": [],
   "source": [
    "from dataset import Dataset\n",
    "from classificadores import KNN, DMC, PerceptronSimples\n",
    "\n",
    "import matplotlib.pyplot as plt\n",
    "import pandas as pd\n",
    "import numpy as np\n",
    "\n",
    "from typing import Union"
   ]
  },
  {
   "cell_type": "code",
   "execution_count": null,
   "id": "7eede447",
   "metadata": {},
   "outputs": [],
   "source": [
    "# Conjunto de dados Iris =================================================\n",
    "dataset = Dataset.from_file( \n",
    "    filepath = r\"datasets\\iris.data\", \n",
    "    label_column = -1, \n",
    "    column_names = [\"sepal length\", \"sepal width\", \"petal length\", \"petal width\", \"class\"]\n",
    ").ensure_numeric_labels().normalize()\n",
    "\n",
    "print(dataset)\n",
    "dataset._label_index_to_name"
   ]
  },
  {
   "cell_type": "code",
   "execution_count": null,
   "id": "3f77c692",
   "metadata": {},
   "outputs": [],
   "source": [
    "# Conjunto de dados Dermatologia =================================================\n",
    "dataset = Dataset.from_file(\n",
    "    filepath = r\"datasets\\dermatology.data\",\n",
    "    label_column = -1,\n",
    "    column_names = [\"erythema\", \"scaling\", \"definite-borders\", \"itching\", \"koebner\" \"phenomenon\", \"polygonal papules\", \"follicular papules\", \"oral-mucosal involvement\", \"knee elbow involvement\", \"scalp involvement\", \"family history\", \"melanin incontinence\", \"eosinophils in the infiltrate\", \"pnl infiltrate\", \"fibrosis of the papillary dermis\", \"exocytosis\", \"acanthosis\", \"hyperkeratosis\", \"parakeratosis\", \"clubbing of the rete ridges\", \"elongation of the rete ridges\", \"thinning of the suprapapillary epidermis\", \"spongiform pustule\", \"munro microabcess\", \"focal hypergranulosis\", \"disappearance of the granular layer\", \"vacuolisation and damage of the basal layer\", \"spongiosis\", \"saw-tooth appearance of retes\", \"follicular horn plug\", \"perifollicular parakeratosis\", \"inflammatory monoluclear infiltrate\", \"band-like infiltrate\", \"age\", \"class\"]\n",
    ").normalize()\n",
    "\n",
    "print(dataset)"
   ]
  },
  {
   "cell_type": "code",
   "execution_count": null,
   "id": "aaa3488c",
   "metadata": {},
   "outputs": [],
   "source": [
    "# Conjunto de dados Vinho =================================================\n",
    "dataset = Dataset.from_file( \n",
    "    filepath = r\"datasets\\wine.data\", \n",
    "    label_column = 0, \n",
    "    column_names = [\"class\", \"Alcohol\", \"Malicacid\", \"Ash\", \"Alcalinity of ash\", \"Magnesium\", \"Total phenols\", \"Flavanoids\", \"Nonflavanoid phenols\",\"Proanthocyanins\", \"Color intensity\", \"Hue\", \"0D280 0D315 of diluted wines\", \"Proline\"]\n",
    ").normalize().move_label_to_end()\n",
    "\n",
    "print(dataset)"
   ]
  },
  {
   "cell_type": "code",
   "execution_count": null,
   "id": "b7ef17ff",
   "metadata": {},
   "outputs": [],
   "source": [
    "# Conjunto de dados Coluna Vertebral =================================================\n",
    "dataset = Dataset.from_file( \n",
    "    filepath = r\"datasets\\column_3C.dat\", \n",
    "    label_column = -1,\n",
    "    delimiter = \" \",  \n",
    "    column_names = [\"pelvic incidence\", \"pelvic tilt\", \"lumbar lordosis angle\", \"sacral slope\", \"pelvic radius\", \"degree spondylolisthesis\", \"class\"]\n",
    ").ensure_numeric_labels().normalize()\n",
    "\n",
    "print(dataset)\n",
    "dataset._label_index_to_name"
   ]
  },
  {
   "cell_type": "code",
   "execution_count": null,
   "id": "265039c6",
   "metadata": {},
   "outputs": [],
   "source": [
    "dataset.data"
   ]
  },
  {
   "cell_type": "code",
   "execution_count": null,
   "id": "66c339c5",
   "metadata": {},
   "outputs": [],
   "source": [
    "dataset.determination_matrix()"
   ]
  },
  {
   "cell_type": "code",
   "execution_count": null,
   "id": "2cb303bd",
   "metadata": {},
   "outputs": [],
   "source": [
    "dataset.vectorize_labels()\n",
    "dataset.label_encodings"
   ]
  },
  {
   "cell_type": "code",
   "execution_count": null,
   "id": "0c82f491",
   "metadata": {},
   "outputs": [],
   "source": [
    "# Separa o conjunto de dados em treinamento e teste\n",
    "train_dataset, test_dataset = dataset.split()"
   ]
  },
  {
   "cell_type": "code",
   "execution_count": null,
   "id": "185aea4d",
   "metadata": {},
   "outputs": [],
   "source": [
    "# Inicio da implementação do Multilayer Perceptron\n",
    "\n",
    "# W: matriz de pesos dos neurônios ocultos (nº de neurônios ocultos x nº de entradas da rede )\n",
    "# M: matriz de pesos dos neurônios de saída (nº de neurônios de saída x (nº de neurônios ocultos + 1) )\n",
    "# q : nº de neurônio ocultos\n",
    "# k : nº de neurônios de saída = nº de classes\n",
    "# u : ativação dos neurônios ocultos\n",
    "# y : saída dos neurônios ocultos\n",
    "# a : ativação dos neurônios de saída\n",
    "# o : saída dos neurônios de saída"
   ]
  },
  {
   "cell_type": "code",
   "execution_count": null,
   "id": "08dc1211",
   "metadata": {},
   "outputs": [],
   "source": [
    "PS = PerceptronSimples( train_dataset )\n",
    "PS.train( 500 )\n",
    "\n",
    "for index, *point_test, classe in test_dataset:\n",
    "    classe_prevista = PS.predict( point_test )\n",
    "    print(f\"{index}] Previu {classe_prevista} e era {classe} [{classe_prevista == classe}]\")\n",
    "\n",
    "train_dataset._centroids"
   ]
  },
  {
   "cell_type": "markdown",
   "id": "bf89b578",
   "metadata": {},
   "source": []
  }
 ],
 "metadata": {
  "kernelspec": {
   "display_name": "Python 3",
   "language": "python",
   "name": "python3"
  },
  "language_info": {
   "codemirror_mode": {
    "name": "ipython",
    "version": 3
   },
   "file_extension": ".py",
   "mimetype": "text/x-python",
   "name": "python",
   "nbconvert_exporter": "python",
   "pygments_lexer": "ipython3",
   "version": "3.13.0"
  }
 },
 "nbformat": 4,
 "nbformat_minor": 5
}
