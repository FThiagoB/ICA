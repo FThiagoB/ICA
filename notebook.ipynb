{
 "cells": [
  {
   "cell_type": "code",
   "execution_count": null,
   "id": "cd0a90e6",
   "metadata": {},
   "outputs": [],
   "source": [
    "from dataset import Dataset\n",
    "from classificadores import PerceptronSimples, MultiLayerPerceptron, ExtremeLearningMachine\n",
    "\n",
    "import matplotlib.pyplot as plt\n",
    "import pandas as pd\n",
    "import numpy as np"
   ]
  },
  {
   "cell_type": "code",
   "execution_count": null,
   "id": "bc9b4883",
   "metadata": {},
   "outputs": [],
   "source": [
    "# Conjunto de dados Câncer de Mama =================================================\n",
    "colunas = [\"ID\", \"Diagnosis\", \"radius1\", \"texture1\", \"perimeter1\", \"area1\", \"smoothness1\", \"compactness1\", \"concavity1\", \"concave_points1\", \"symmetry1\", \"fractal_dimension1\", \"radius2\", \"texture2\", \"perimeter2\", \"area2\", \"smoothness2\", \"compactness2\", \"concavity2\", \"concave_points2\", \"symmetry2\", \"fractal_dimension2\", \"radius3\", \"texture3\", \"perimeter3\", \"area3\", \"smoothness3\", \"compactness3\", \"concavity3\", \"concave_points3\", \"symmetry3\", \"fractal_dimension3\"]\n",
    "\n",
    "dataset = Dataset.from_file( \n",
    "    filepath = r\"datasets\\wdbc.data\", \n",
    "    label_column = 1,\n",
    "    delimiter = \",\",  \n",
    "    column_names = colunas\n",
    ").ensure_numeric_labels().remove_features([\"ID\"]).normalize()\n",
    "\n",
    "print(dataset)\n",
    "dataset._label_index_to_name"
   ]
  },
  {
   "cell_type": "code",
   "execution_count": null,
   "id": "b7ef17ff",
   "metadata": {},
   "outputs": [],
   "source": [
    "# Conjunto de dados Coluna Vertebral =================================================\n",
    "colunas = [\"pelvic incidence\", \"pelvic tilt\", \"lumbar lordosis angle\", \"sacral slope\", \"pelvic radius\", \"degree spondylolisthesis\", \"class\"]\n",
    "\n",
    "dataset = Dataset.from_file( \n",
    "    filepath = r\"datasets\\column_3C.dat\", \n",
    "    label_column = -1,\n",
    "    delimiter = \" \",  \n",
    "    column_names = colunas\n",
    ").ensure_numeric_labels().normalize()\n",
    "\n",
    "print(dataset)\n",
    "dataset._label_index_to_name"
   ]
  },
  {
   "cell_type": "code",
   "execution_count": null,
   "id": "265039c6",
   "metadata": {},
   "outputs": [],
   "source": [
    "dataset.data"
   ]
  },
  {
   "cell_type": "code",
   "execution_count": null,
   "id": "66c339c5",
   "metadata": {},
   "outputs": [],
   "source": [
    "dataset.determination_matrix()"
   ]
  },
  {
   "cell_type": "code",
   "execution_count": null,
   "id": "2cb303bd",
   "metadata": {},
   "outputs": [],
   "source": [
    "dataset.vectorize_labels()\n",
    "dataset.label_encodings"
   ]
  },
  {
   "cell_type": "code",
   "execution_count": null,
   "id": "0c82f491",
   "metadata": {},
   "outputs": [],
   "source": [
    "# Separa o conjunto de dados em treinamento e teste\n",
    "train_dataset, test_dataset = dataset.split()\n",
    "train_dataset : Dataset \n",
    "test_dataset : Dataset"
   ]
  },
  {
   "cell_type": "code",
   "execution_count": null,
   "id": "74658d1f",
   "metadata": {},
   "outputs": [],
   "source": [
    "ELM = ExtremeLearningMachine( train_dataset, q = 280 )\n",
    "ELM.train()\n",
    "\n",
    "for index, *point_test, classe in test_dataset:\n",
    "    classe_prevista = ELM.predict( point_test )\n",
    "    print(f\"{index}] Previu {classe_prevista} e era {classe} [{classe_prevista == classe}]\")"
   ]
  },
  {
   "cell_type": "code",
   "execution_count": null,
   "id": "23d2e077",
   "metadata": {},
   "outputs": [],
   "source": [
    "MLP = MultiLayerPerceptron( train_dataset )\n",
    "MLP.train( 500 )\n",
    "\n",
    "for index, *point_test, classe in test_dataset:\n",
    "    classe_prevista = MLP.predict( point_test )\n",
    "    print(f\"{index}] Previu {classe_prevista} e era {classe} [{classe_prevista == classe}]\")"
   ]
  },
  {
   "cell_type": "code",
   "execution_count": null,
   "id": "08dc1211",
   "metadata": {},
   "outputs": [],
   "source": [
    "PS = PerceptronSimples( train_dataset )\n",
    "PS.train( 500 )\n",
    "\n",
    "for index, *point_test, classe in test_dataset:\n",
    "    classe_prevista = PS.predict( point_test )\n",
    "    print(f\"{index}] Previu {classe_prevista} e era {classe} [{classe_prevista == classe}]\")"
   ]
  },
  {
   "cell_type": "markdown",
   "id": "bf89b578",
   "metadata": {},
   "source": []
  }
 ],
 "metadata": {
  "kernelspec": {
   "display_name": "Python 3",
   "language": "python",
   "name": "python3"
  },
  "language_info": {
   "codemirror_mode": {
    "name": "ipython",
    "version": 3
   },
   "file_extension": ".py",
   "mimetype": "text/x-python",
   "name": "python",
   "nbconvert_exporter": "python",
   "pygments_lexer": "ipython3",
   "version": "3.13.0"
  }
 },
 "nbformat": 4,
 "nbformat_minor": 5
}
