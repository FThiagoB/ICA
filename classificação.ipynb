{
 "cells": [
  {
   "cell_type": "code",
   "execution_count": 9,
   "id": "cd0a90e6",
   "metadata": {},
   "outputs": [],
   "source": [
    "import pandas as pd\n",
    "import numpy as np\n",
    "import matplotlib.pyplot as plt"
   ]
  },
  {
   "cell_type": "code",
   "execution_count": 12,
   "id": "94f479fe",
   "metadata": {},
   "outputs": [],
   "source": [
    "# Realiza alguns imports para a especificação de tipos\n",
    "from typing import Self"
   ]
  },
  {
   "cell_type": "code",
   "execution_count": 13,
   "id": "df82d4ca",
   "metadata": {},
   "outputs": [],
   "source": [
    "class Dataset:\n",
    "    def __init__( self, data: pd.DataFrame, *, label_column : int = -1, column_names : list = None ) -> None:\n",
    "        \"\"\"\n",
    "        Inicializa a classe Dataset.\n",
    "\n",
    "        Args:\n",
    "            data (DataFrame): DataFrame com os dados do conjunto de dados;\n",
    "            label_column (int): Inteiro que especifica a posição da coluna de rótulo;\n",
    "            column_names (list): Lista com as strings de cada coluna.\n",
    "        \"\"\"\n",
    "\n",
    "        self.data = data                    # Guarda o DataFrame do conjunto de dados\n",
    "        self.label_column = label_column    # Armazena o índice para a coluna de rótulo\n",
    "        self.column_names = column_names    # Armazena a lista com os rótulos das colunas do DataFrame\n",
    "\n",
    "        # Se for especificado, define o nome das colunas\n",
    "        if self.column_names is not None:\n",
    "            self._set_column_names()\n",
    "\n",
    "    def _set_column_names( self ) -> None:\n",
    "        \"\"\"\n",
    "        Atualiza os rótulos das colunas do DataFrame, conforme o valor no atributo column_names.\n",
    "        \"\"\"\n",
    "\n",
    "        self.data.columns = self.column_names\n",
    "\n",
    "    def shuffle( self ) -> Self:\n",
    "        \"\"\"\n",
    "        Retorna uma nova instância da classe com os dados embaralhados.\n",
    "        \"\"\"\n",
    "\n",
    "        # Obtém um DataFrame embaralhado e com os índices resetados\n",
    "        data = self.data.sample(frac=1).reset_index( drop=True )\n",
    "\n",
    "        # Retorna uma nova instância da classe\n",
    "        return self.__class__( data, label_column = self.label_column, column_names = self.column_names )\n",
    "    \n",
    "    @classmethod\n",
    "    def from_file( cls, filepath : str, comment_marker : str = \"#\", missing_marker : str = \"?\", *, label_column : int = -1, column_names : list = None ) -> None:\n",
    "        \"\"\"\n",
    "        Inicializa a classe especificando o caminho de um arquivo.\n",
    "\n",
    "        Args:\n",
    "            filepath (str): Caminho para o arquivo CSV;\n",
    "            comment_marker (str): Marcador para linhas de comentário (serão ignoradas);\n",
    "            missing_marker (str): Marcador para elementos faltantes (o pandas irá substituir valores por NaN);\n",
    "            label_column (int): Inteiro que especifica a posição da coluna de rótulo;\n",
    "            column_names (list): Lista com as strings de cada coluna.\n",
    "        \"\"\"\n",
    "\n",
    "        # Lê o arquivo CSV (Não existe linhas de header no arquivo)\n",
    "        data = pd.read_csv( filepath, header=None, comment=comment_marker, na_values=missing_marker )\n",
    "\n",
    "        # Remover elementos faltantes\n",
    "        data = data.dropna()\n",
    "\n",
    "        # Retorna uma chamada para o construtor normal da classe\n",
    "        return cls( data, label_column = label_column, column_names = column_names )\n",
    "    \n",
    "    @property\n",
    "    def X( self ) -> pd.DataFrame:\n",
    "        \"\"\"\n",
    "        Retorna as colunas de atributos\n",
    "        \"\"\"\n",
    "\n",
    "        # Se a coluna de resultados estiver em uma posição diferente da coluna final, compõe o DataFrame com os atributos\n",
    "        if self.label_column != -1:\n",
    "            return pd.concat( [self.data.iloc[:, :self.label_column],  self.data.iloc[:, self.label_column+1:]], axis=1 )\n",
    "        \n",
    "        # Caso mais simples, a coluna de label está no final\n",
    "        return self.data.iloc[:, :self.label_column]\n",
    "    \n",
    "    @property\n",
    "    def y( self ) -> pd.Series:\n",
    "        \"\"\"\n",
    "        Retorna a coluna de rótulo\n",
    "        \"\"\"\n",
    "\n",
    "        return self.data.iloc[:, self.label_column]\n",
    "    \n",
    "    @property\n",
    "    def shape( self ) -> tuple:\n",
    "        \"\"\"\n",
    "        Retorna as dimensões do Dataset\n",
    "\n",
    "        Returns:\n",
    "            tuple: Retorna uma tupla na forma (m,n,k), onde m é o número de instâncias, n é o número de atributos e k é o número de classes.\n",
    "        \"\"\"\n",
    "\n",
    "        m, n = self.data.shape\n",
    "        k = len( set( self.y ) )\n",
    "\n",
    "        return (m, n, k)"
   ]
  },
  {
   "cell_type": "code",
   "execution_count": 20,
   "id": "1ff279ca",
   "metadata": {},
   "outputs": [
    {
     "data": {
      "text/plain": [
       "(358, 35, 6)"
      ]
     },
     "execution_count": 20,
     "metadata": {},
     "output_type": "execute_result"
    }
   ],
   "source": [
    "path_dataset = r\"datasets\\dermatology.data\"    # caminho do arquivo\n",
    "column_names = [\"sepal length\", \"sepal width\", \"petal length\", \"petal width\", \"class\"] # Nome dos campos\n",
    "\n",
    "data = Dataset.from_file( path_dataset, label_column=-1 )\n",
    "data.shape"
   ]
  }
 ],
 "metadata": {
  "kernelspec": {
   "display_name": "Python 3",
   "language": "python",
   "name": "python3"
  },
  "language_info": {
   "codemirror_mode": {
    "name": "ipython",
    "version": 3
   },
   "file_extension": ".py",
   "mimetype": "text/x-python",
   "name": "python",
   "nbconvert_exporter": "python",
   "pygments_lexer": "ipython3",
   "version": "3.13.0"
  }
 },
 "nbformat": 4,
 "nbformat_minor": 5
}
