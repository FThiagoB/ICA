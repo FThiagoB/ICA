{
 "cells": [
  {
   "cell_type": "code",
   "execution_count": 1,
   "id": "cd0a90e6",
   "metadata": {},
   "outputs": [],
   "source": [
    "import pandas as pd\n",
    "import numpy as np\n",
    "import matplotlib.pyplot as plt"
   ]
  },
  {
   "cell_type": "code",
   "execution_count": 2,
   "id": "94f479fe",
   "metadata": {},
   "outputs": [],
   "source": [
    "# Realiza alguns imports para a especificação de tipos\n",
    "from typing import Self, Optional"
   ]
  },
  {
   "cell_type": "code",
   "execution_count": null,
   "id": "df82d4ca",
   "metadata": {},
   "outputs": [],
   "source": [
    "class Dataset:\n",
    "    def __init__( self, data: pd.DataFrame, *, label_column : int = -1, column_names : Optional[list[str]] = None ) -> None:\n",
    "        \"\"\"\n",
    "        Inicializa a classe Dataset.\n",
    "\n",
    "        Args:\n",
    "            data: DataFrame com os dados do conjunto de dados.\n",
    "            label_column: Posição da coluna de rótulo (por padrão é -1, última coluna).\n",
    "            column_names: Lista opcional com os nomes das colunas.\n",
    "        \"\"\"\n",
    "\n",
    "        self.data = data                    # Guarda o DataFrame do conjunto de dados\n",
    "        self.label_column = label_column    # Armazena o índice para a coluna de rótulo\n",
    "        self.column_names = column_names    # Armazena a lista com os rótulos das colunas do DataFrame\n",
    "\n",
    "        # Se for especificado, define o nome das colunas\n",
    "        if self.column_names is not None:\n",
    "            self._set_column_names()\n",
    "\n",
    "    def _set_column_names( self ) -> None:\n",
    "        \"\"\"\n",
    "        Atualiza os rótulos das colunas do DataFrame, conforme o valor no atributo column_names.\n",
    "        \"\"\"\n",
    "\n",
    "        self.data.columns = self.column_names\n",
    "\n",
    "    def shuffle( self, random_state: Optional[int] = None ) -> Self:\n",
    "        \"\"\"\n",
    "        Retorna uma nova instância da classe com os dados embaralhados.\n",
    "\n",
    "        Args:\n",
    "            random_state: Semente opcional para reprodução de resultados.\n",
    "        \n",
    "        Returns:\n",
    "            Uma nova instância do Dataset com os dados embaralhados.\n",
    "        \"\"\"\n",
    "\n",
    "        # Obtém um DataFrame embaralhado e com os índices resetados\n",
    "        data = self.data.sample(frac=1, random_state=random_state).reset_index( drop=True )\n",
    "\n",
    "        # Retorna uma nova instância da classe\n",
    "        return self.__class__( data, label_column = self.label_column, column_names = self.column_names )\n",
    "    \n",
    "    @classmethod\n",
    "    def from_file( cls, filepath : str, *, comment_marker : str = \"#\", missing_marker : str = \"?\", label_column : int = -1, column_names : Optional[list[str]] = None ) -> None:\n",
    "        \"\"\"\n",
    "        Inicializa a classe a partir de um arquivo CSV.\n",
    "\n",
    "        Args:\n",
    "            filepath: Caminho para o arquivo CSV.\n",
    "            comment_marker: Marcador para linhas de comentário (serão ignoradas).\n",
    "            missing_marker: Marcador para elementos faltantes (substituídos por NaN).\n",
    "            Posição da coluna de rótulo (por padrão é -1, última coluna).\n",
    "            column_names: Lista opcional com o nome das colunas.\n",
    "        \"\"\"\n",
    "\n",
    "        # Lê o arquivo CSV (Não existe linhas de header no arquivo)\n",
    "        data = pd.read_csv( filepath, header=None, comment=comment_marker, na_values=missing_marker )\n",
    "\n",
    "        # Remover elementos faltantes\n",
    "        data = data.dropna()\n",
    "\n",
    "        # Retorna uma chamada para o construtor normal da classe\n",
    "        return cls( data, label_column = label_column, column_names = column_names )\n",
    "    \n",
    "    @property\n",
    "    def X( self ) -> pd.DataFrame:\n",
    "        \"\"\" Retorna as colunas de atributos \"\"\"\n",
    "\n",
    "        # Caso mais simples, a coluna de label está no final\n",
    "        if self.label_column == -1:\n",
    "            return self.data.iloc[:, :self.label_column]\n",
    "        \n",
    "        # Se a coluna de resultados estiver em uma posição diferente da coluna final, compõe o DataFrame com os atributos\n",
    "        return pd.concat([\n",
    "            self.data.iloc[:, :self.label_column],  \n",
    "            self.data.iloc[:, self.label_column+1:]\n",
    "        ], axis=1 )        \n",
    "    \n",
    "    @property\n",
    "    def y( self ) -> pd.Series:\n",
    "        \"\"\" Retorna a coluna de rótulo \"\"\"\n",
    "\n",
    "        return self.data.iloc[:, self.label_column]\n",
    "    \n",
    "    @property\n",
    "    def shape( self ) -> tuple[int, int, int]:\n",
    "        \"\"\"\n",
    "        Retorna as dimensões do Dataset\n",
    "\n",
    "        Returns:\n",
    "            Tupla[m, n, k] onde:\n",
    "            m = número de instâncias\n",
    "            n = número de atributos \n",
    "            k = número de classes\n",
    "        \"\"\"\n",
    "\n",
    "        m, n = self.data.shape\n",
    "        k = len( self.y.unique() )\n",
    "\n",
    "        # A coluna de rótulo está contada em n\n",
    "        return (m, n-1, k)"
   ]
  },
  {
   "cell_type": "code",
   "execution_count": 5,
   "id": "1ff279ca",
   "metadata": {},
   "outputs": [
    {
     "data": {
      "text/plain": [
       "(358, 34, 6)"
      ]
     },
     "execution_count": 5,
     "metadata": {},
     "output_type": "execute_result"
    }
   ],
   "source": [
    "path_dataset = r\"datasets\\dermatology.data\"    # caminho do arquivo\n",
    "column_names = [\"sepal length\", \"sepal width\", \"petal length\", \"petal width\", \"class\"] # Nome dos campos\n",
    "\n",
    "data = Dataset.from_file( path_dataset, label_column=-1 )\n",
    "data.shape"
   ]
  }
 ],
 "metadata": {
  "kernelspec": {
   "display_name": "Python 3",
   "language": "python",
   "name": "python3"
  },
  "language_info": {
   "codemirror_mode": {
    "name": "ipython",
    "version": 3
   },
   "file_extension": ".py",
   "mimetype": "text/x-python",
   "name": "python",
   "nbconvert_exporter": "python",
   "pygments_lexer": "ipython3",
   "version": "3.13.0"
  }
 },
 "nbformat": 4,
 "nbformat_minor": 5
}
