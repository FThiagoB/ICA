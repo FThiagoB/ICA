{
 "cells": [
  {
   "cell_type": "code",
   "execution_count": null,
   "id": "cd0a90e6",
   "metadata": {},
   "outputs": [],
   "source": [
    "from dataset import Dataset\n",
    "\n",
    "import matplotlib.pyplot as plt\n",
    "import pandas as pd\n",
    "import numpy as np\n",
    "\n",
    "from typing import Union"
   ]
  },
  {
   "cell_type": "code",
   "execution_count": null,
   "id": "b7ef17ff",
   "metadata": {},
   "outputs": [],
   "source": [
    "# Conjunto de dados Iris ================================================================================================================\n",
    "wine_dataset = Dataset.from_file( \n",
    "    filepath = r\"datasets\\wine.data\", \n",
    "    label_column = 0, \n",
    "    column_names = [\"class\", \"Alcohol\", \"Malicacid\", \"Ash\", \"Alcalinity of ash\", \"Magnesium\", \"Total phenols\", \"Flavanoids\", \"Nonflavanoid phenols\",\"Proanthocyanins\", \"Color intensity\", \"Hue\", \"0D280 0D315 of diluted wines\", \"Proline\"]\n",
    ").normalize().move_label_to_end()\n",
    "\n",
    "wine_dataset"
   ]
  },
  {
   "cell_type": "code",
   "execution_count": null,
   "id": "265039c6",
   "metadata": {},
   "outputs": [],
   "source": [
    "wine_dataset.data"
   ]
  },
  {
   "cell_type": "code",
   "execution_count": null,
   "id": "66c339c5",
   "metadata": {},
   "outputs": [],
   "source": [
    "wine_dataset.determination_matrix()"
   ]
  },
  {
   "cell_type": "code",
   "execution_count": null,
   "id": "0c82f491",
   "metadata": {},
   "outputs": [],
   "source": [
    "# Separa o conjunto de dados em treinamento e teste\n",
    "train_dataset, test_dataset = wine_dataset.split()"
   ]
  },
  {
   "cell_type": "code",
   "execution_count": null,
   "id": "67d73150",
   "metadata": {},
   "outputs": [],
   "source": [
    "def dist_euclidiana( P1 : Union[ np.ndarray, list[float] ], P2 : Union[ np.ndarray, list[float] ] ) -> float:\n",
    "    distance = np.subtract( P1, P2 ) ** 2\n",
    "    distance = np.sqrt( np.sum( distance ) )\n",
    "    \n",
    "    return distance"
   ]
  },
  {
   "cell_type": "code",
   "execution_count": null,
   "id": "4ea138da",
   "metadata": {},
   "outputs": [],
   "source": [
    "def KNN( train_dataset : Dataset, P : np.ndarray, k : int = 3 ) -> float:\n",
    "    distances = []\n",
    "    nearest_class = None\n",
    "\n",
    "    # Percorre as instâncias de treinamento\n",
    "    for index, *features, classe in train_dataset:\n",
    "        # Armazena o indice do elemento de treinamento e a distância dele até o ponto classificado\n",
    "        distances.append( (index, dist_euclidiana( features, P )) )\n",
    "    \n",
    "    # Ordena a lista em função da distância\n",
    "    distances = sorted( distances, key = lambda el: el[1] )\n",
    "\n",
    "    # Obtém a posição dos k elementos mais próximos\n",
    "    positions = [el[0] for i, el in enumerate(distances) if i < k]\n",
    "\n",
    "    # Obtém a classe dos k elementos mais próximos\n",
    "    classes = train_dataset.y[ positions ].to_numpy()\n",
    "\n",
    "    # Obtém a classe com a maior moda\n",
    "    classes, moda = np.unique( classes, return_counts = True )\n",
    "    nearest_class = classes[ np.argmax(moda) ]\n",
    "    \n",
    "    return nearest_class"
   ]
  },
  {
   "cell_type": "code",
   "execution_count": null,
   "id": "4969ef58",
   "metadata": {},
   "outputs": [],
   "source": [
    "def DMC( train_dataset : Dataset, P : np.ndarray ) -> float:\n",
    "    nearest_class = None\n",
    "    min_distance = float('inf')\n",
    "    \n",
    "    # Percorre os centroides\n",
    "    for _, *features, classe in train_dataset.centroids:\n",
    "        current_distance = dist_euclidiana( features, P )\n",
    "\n",
    "        # Se a distância calculada for menor que menor distância atual, atualiza\n",
    "        if current_distance < min_distance:\n",
    "            min_distance = current_distance\n",
    "            nearest_class = classe\n",
    "    \n",
    "    return nearest_class"
   ]
  },
  {
   "cell_type": "code",
   "execution_count": null,
   "id": "7ece6321",
   "metadata": {},
   "outputs": [],
   "source": [
    "# Dimensões do dataset\n",
    "m, n, k = train_dataset.shape\n",
    "\n",
    "# Obtém um exemplo\n",
    "X = train_dataset.X.iloc[0]\n",
    "y = train_dataset.y.iloc[0]\n",
    "\n",
    "# Número de neurônios? Igual ao número de classes\n",
    "n_neurons = k\n",
    "\n",
    "# Adiciona o \"-1\" do viés à lista de features informada\n",
    "features = np.r_[X, -1]\n",
    "\n",
    "# Inicializa a matriz de pesos para os neurônios\n",
    "W = np.random.normal( size = (n_neurons, n+1) )\n",
    "\n",
    "# Percorre os neurônios\n",
    "for current_neuron in range( n_neurons ):\n",
    "    # Calcula a ativação\n",
    "    activation = np.dot( W[current_neuron], features )\n",
    "\n",
    "    print(f\"Neuron {current_neuron} possui a ativação {activation}\")\n",
    "\n",
    "    # Calcula a saída pelo uso da função signal\n",
    "    signal = lambda activation: 1 if activation >= 0 else -1\n",
    "\n",
    "    print(f\"Neuron output: {signal(activation)}\")"
   ]
  },
  {
   "cell_type": "code",
   "execution_count": null,
   "id": "08dc1211",
   "metadata": {},
   "outputs": [],
   "source": [
    "for index, *point_test, classe in test_dataset:\n",
    "    classe_prevista = DMC( train_dataset, point_test )\n",
    "    print(f\"{index}] Previu {classe_prevista} e era {classe} [{classe_prevista == classe}]\")\n",
    "\n",
    "train_dataset._centroids"
   ]
  },
  {
   "cell_type": "markdown",
   "id": "bf89b578",
   "metadata": {},
   "source": []
  }
 ],
 "metadata": {
  "kernelspec": {
   "display_name": "Python 3",
   "language": "python",
   "name": "python3"
  },
  "language_info": {
   "codemirror_mode": {
    "name": "ipython",
    "version": 3
   },
   "file_extension": ".py",
   "mimetype": "text/x-python",
   "name": "python",
   "nbconvert_exporter": "python",
   "pygments_lexer": "ipython3",
   "version": "3.13.0"
  }
 },
 "nbformat": 4,
 "nbformat_minor": 5
}
