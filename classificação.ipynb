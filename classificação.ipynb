{
 "cells": [
  {
   "cell_type": "code",
   "execution_count": 1,
   "id": "cd0a90e6",
   "metadata": {},
   "outputs": [],
   "source": [
    "from dataset import Dataset\n",
    "\n",
    "import matplotlib.pyplot as plt\n",
    "import pandas as pd\n",
    "import numpy as np"
   ]
  },
  {
   "cell_type": "code",
   "execution_count": 2,
   "id": "b7ef17ff",
   "metadata": {},
   "outputs": [
    {
     "data": {
      "text/plain": [
       "Dataset(instâncias=150, features=4, classes=3)"
      ]
     },
     "execution_count": 2,
     "metadata": {},
     "output_type": "execute_result"
    }
   ],
   "source": [
    "# Conjunto de dados Iris ================================================================================================================\n",
    "path_dataset = r\"datasets\\iris.data\"\n",
    "column_names = [\"sepal length\", \"sepal width\", \"petal length\", \"petal width\", \"class\"]\n",
    "\n",
    "iris_dataset = Dataset.from_file( path_dataset, label_column=-1, column_names=column_names ).ensure_numeric_labels().normalize()\n",
    "iris_dataset"
   ]
  },
  {
   "cell_type": "code",
   "execution_count": 3,
   "id": "44aab5f4",
   "metadata": {},
   "outputs": [
    {
     "data": {
      "text/plain": [
       "Dataset(instâncias=358, features=34, classes=6)"
      ]
     },
     "execution_count": 3,
     "metadata": {},
     "output_type": "execute_result"
    }
   ],
   "source": [
    "# Conjunto de dados Dermatology ================================================================================================================\n",
    "path_dataset = r\"datasets\\dermatology.data\"\n",
    "column_names = [\"erythema\", \"scaling\", \"definite-borders\", \"itching\", \"koebner phenomenon\", \"polygonal papules\", \"follicular papules\", \"oral-mucosal involvement\", \"knee elbow involvement\", \"scalp involvement\", \"family history\", \"melanin incontinence\", \"eosinophils in the infiltrate\", \"pnl infiltrate\", \"fibrosis of the papillary dermis\", \"exocytosis\", \"acanthosis\", \"hyperkeratosis\", \"parakeratosis\", \"clubbing of the rete ridges\", \"elongation of the rete ridges\", \"thinning of the suprapapillary epidermis\", \"spongiform pustule\", \"munro microabcess\", \"focal hypergranulosis\", \"disappearance of the granular layer\", \"vacuolisation and damage of the basal layer\", \"spongiosis\", \"saw-tooth appearance of retes\", \"follicular horn plug\", \"perifollicular parakeratosis\", \"inflammatory monoluclear infiltrate\", \"band-like infiltrate\", \"age\", \"class\"] \n",
    "\n",
    "dermatology_dataset = Dataset.from_file( path_dataset, label_column=-1, column_names=column_names ).ensure_numeric_labels().normalize()\n",
    "dermatology_dataset"
   ]
  },
  {
   "cell_type": "code",
   "execution_count": 4,
   "id": "a347f7d0",
   "metadata": {},
   "outputs": [
    {
     "data": {
      "text/plain": [
       "Dataset(instâncias=178, features=13, classes=3)"
      ]
     },
     "execution_count": 4,
     "metadata": {},
     "output_type": "execute_result"
    }
   ],
   "source": [
    "# Conjunto de dados Wine ================================================================================================================\n",
    "path_dataset = r\"datasets\\wine.data\"\n",
    "column_names = [\"class\", \"Alcohol\", \"Malicacid\", \"Ash\", \"Alcalinity of ash\", \"Magnesium\", \"Total phenols\", \"Flavanoids\", \"Nonflavanoid phenols\", \"Proanthocyanins\", \"Color intensity\", \"Hue\",\"0D280 0D315 of diluted wines\", \"Proline\"]\n",
    "\n",
    "wine_dataset = Dataset.from_file( path_dataset, label_column=0, column_names=column_names ).normalize().ensure_numeric_labels()\n",
    "wine_dataset"
   ]
  },
  {
   "cell_type": "code",
   "execution_count": 5,
   "id": "1ff279ca",
   "metadata": {},
   "outputs": [
    {
     "data": {
      "text/plain": [
       "Dataset(instâncias=310, features=6, classes=3)"
      ]
     },
     "execution_count": 5,
     "metadata": {},
     "output_type": "execute_result"
    }
   ],
   "source": [
    "# Conjunto de dados Coluna Vertebral =====================================================================================================\n",
    "path_dataset = r\"datasets\\column_3C.dat\"\n",
    "column_names = [\"pelvic_incidence\", \"pelvic_tilt\", \"lumbar_lordosis_angle\", \"sacral_slope\", \"pelvic_radius\", \"degree_spondylolisthesis\", \"class\"]\n",
    "\n",
    "vertebral_column_dataset = Dataset.from_file( path_dataset, delimiter=\" \", label_column=-1, column_names=column_names ).ensure_numeric_labels()\n",
    "vertebral_column_dataset"
   ]
  },
  {
   "cell_type": "code",
   "execution_count": 6,
   "id": "fc19af73",
   "metadata": {},
   "outputs": [
    {
     "name": "stdout",
     "output_type": "stream",
     "text": [
      "['pelvic_incidence', 'pelvic_tilt', 'lumbar_lordosis_angle', 'sacral_slope', 'pelvic_radius', 'degree_spondylolisthesis', 'class']\n",
      "                          pelvic_incidence  pelvic_tilt  \\\n",
      "pelvic_incidence                  1.000000     0.395875   \n",
      "pelvic_tilt                       0.395875     1.000000   \n",
      "lumbar_lordosis_angle             0.514499     0.187282   \n",
      "sacral_slope                      0.664158     0.003885   \n",
      "pelvic_radius                     0.061248     0.001067   \n",
      "degree_spondylolisthesis          0.407979     0.158277   \n",
      "class                             0.000845     0.044820   \n",
      "\n",
      "                          lumbar_lordosis_angle  sacral_slope  pelvic_radius  \\\n",
      "pelvic_incidence                       0.514499      0.664158       0.061248   \n",
      "pelvic_tilt                            0.187282      0.003885       0.001067   \n",
      "lumbar_lordosis_angle                  1.000000      0.358069       0.006459   \n",
      "sacral_slope                           0.358069      1.000000       0.117064   \n",
      "pelvic_radius                          0.006459      0.117064       1.000000   \n",
      "degree_spondylolisthesis               0.284798      0.274127       0.000680   \n",
      "class                                  0.001351      0.014523       0.055102   \n",
      "\n",
      "                          degree_spondylolisthesis     class  \n",
      "pelvic_incidence                          0.407979  0.000845  \n",
      "pelvic_tilt                               0.158277  0.044820  \n",
      "lumbar_lordosis_angle                     0.284798  0.001351  \n",
      "sacral_slope                              0.274127  0.014523  \n",
      "pelvic_radius                             0.000680  0.055102  \n",
      "degree_spondylolisthesis                  1.000000  0.014286  \n",
      "class                                     0.014286  1.000000  \n"
     ]
    }
   ],
   "source": [
    "print( vertebral_column_dataset.determination_matrix() )"
   ]
  },
  {
   "cell_type": "markdown",
   "id": "bf89b578",
   "metadata": {},
   "source": []
  }
 ],
 "metadata": {
  "kernelspec": {
   "display_name": "base",
   "language": "python",
   "name": "python3"
  },
  "language_info": {
   "codemirror_mode": {
    "name": "ipython",
    "version": 3
   },
   "file_extension": ".py",
   "mimetype": "text/x-python",
   "name": "python",
   "nbconvert_exporter": "python",
   "pygments_lexer": "ipython3",
   "version": "3.12.7"
  }
 },
 "nbformat": 4,
 "nbformat_minor": 5
}
